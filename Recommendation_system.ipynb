{
 "cells": [
  {
   "cell_type": "markdown",
   "id": "dbd987ec-1d52-4c40-896e-2ef85fa0818e",
   "metadata": {},
   "source": [
    "### Importing the required Libraries"
   ]
  },
  {
   "cell_type": "code",
   "execution_count": 521,
   "id": "954bb1dc-ea58-42d3-a5ab-e2d66696919e",
   "metadata": {},
   "outputs": [],
   "source": [
    "import numpy as np\n",
    "import pandas as pd\n",
    "from sklearn.preprocessing import MinMaxScaler\n",
    "import ast"
   ]
  },
  {
   "cell_type": "markdown",
   "id": "edc2ba23-e45c-4928-b857-7b29c5fdae3f",
   "metadata": {},
   "source": [
    "#### Loading the Dataset"
   ]
  },
  {
   "cell_type": "code",
   "execution_count": 522,
   "id": "c8ed5896-7de2-4fd2-8a1c-2f197d391c3f",
   "metadata": {},
   "outputs": [],
   "source": [
    "data=pd.read_csv(\"data_video.csv\")"
   ]
  },
  {
   "cell_type": "code",
   "execution_count": 523,
   "id": "e32e0118-c101-4037-81f5-61a2c91fc8b1",
   "metadata": {},
   "outputs": [],
   "source": [
    "## Removing the unnamed column i.e the index column\n",
    "data.drop(columns=['Unnamed: 0'],axis=1,inplace=True)"
   ]
  },
  {
   "cell_type": "markdown",
   "id": "4aca1d6b-d0b9-44aa-bdf2-9af2d49f7563",
   "metadata": {},
   "source": [
    "## Content-based-filtering"
   ]
  },
  {
   "cell_type": "code",
   "execution_count": 524,
   "id": "3035bc54-5f7e-4279-8387-d503626e5da0",
   "metadata": {},
   "outputs": [
    {
     "data": {
      "text/html": [
       "<div>\n",
       "<style scoped>\n",
       "    .dataframe tbody tr th:only-of-type {\n",
       "        vertical-align: middle;\n",
       "    }\n",
       "\n",
       "    .dataframe tbody tr th {\n",
       "        vertical-align: top;\n",
       "    }\n",
       "\n",
       "    .dataframe thead th {\n",
       "        text-align: right;\n",
       "    }\n",
       "</style>\n",
       "<table border=\"1\" class=\"dataframe\">\n",
       "  <thead>\n",
       "    <tr style=\"text-align: right;\">\n",
       "      <th></th>\n",
       "      <th>id</th>\n",
       "      <th>category</th>\n",
       "      <th>title</th>\n",
       "      <th>comment_count</th>\n",
       "      <th>upvote_count</th>\n",
       "      <th>view_count</th>\n",
       "      <th>share_count</th>\n",
       "      <th>username</th>\n",
       "      <th>following</th>\n",
       "      <th>Name</th>\n",
       "      <th>posted_n_days_ago</th>\n",
       "      <th>popularity_score</th>\n",
       "      <th>genre</th>\n",
       "      <th>targeted_audience</th>\n",
       "      <th>post_description</th>\n",
       "    </tr>\n",
       "  </thead>\n",
       "  <tbody>\n",
       "    <tr>\n",
       "      <th>0</th>\n",
       "      <td>1291</td>\n",
       "      <td>['SolTok', 50, 'Ride the wave of Solana with S...</td>\n",
       "      <td>Can Moo Deng’s MEME COIN GO HIGHER_ #shorts</td>\n",
       "      <td>0</td>\n",
       "      <td>0</td>\n",
       "      <td>23</td>\n",
       "      <td>0</td>\n",
       "      <td>kinha</td>\n",
       "      <td>False</td>\n",
       "      <td>Sachin Kinha</td>\n",
       "      <td>41</td>\n",
       "      <td>41.210468</td>\n",
       "      <td>Unspecified</td>\n",
       "      <td>General Audience</td>\n",
       "      <td>Description not available.</td>\n",
       "    </tr>\n",
       "    <tr>\n",
       "      <th>1</th>\n",
       "      <td>1306</td>\n",
       "      <td>['SolTok', 50, 'Ride the wave of Solana with S...</td>\n",
       "      <td>Culture of Solana Token $COST.   #  2024  Trum...</td>\n",
       "      <td>0</td>\n",
       "      <td>0</td>\n",
       "      <td>28</td>\n",
       "      <td>0</td>\n",
       "      <td>kinha</td>\n",
       "      <td>False</td>\n",
       "      <td>Sachin Kinha</td>\n",
       "      <td>38</td>\n",
       "      <td>41.210468</td>\n",
       "      <td>Unspecified</td>\n",
       "      <td>General Audience</td>\n",
       "      <td>Description not available.</td>\n",
       "    </tr>\n",
       "    <tr>\n",
       "      <th>2</th>\n",
       "      <td>1276</td>\n",
       "      <td>['SolTok', 50, 'Ride the wave of Solana with S...</td>\n",
       "      <td>Daily realisation #trading #crypto #bitcoin #e...</td>\n",
       "      <td>0</td>\n",
       "      <td>0</td>\n",
       "      <td>51</td>\n",
       "      <td>0</td>\n",
       "      <td>kinha</td>\n",
       "      <td>False</td>\n",
       "      <td>Sachin Kinha</td>\n",
       "      <td>41</td>\n",
       "      <td>43.002227</td>\n",
       "      <td>Unspecified</td>\n",
       "      <td>General Audience</td>\n",
       "      <td>Description not available.</td>\n",
       "    </tr>\n",
       "    <tr>\n",
       "      <th>3</th>\n",
       "      <td>1265</td>\n",
       "      <td>['SolTok', 50, 'Ride the wave of Solana with S...</td>\n",
       "      <td>#crypto #cryptotrading #memecoin #solmemecoins...</td>\n",
       "      <td>0</td>\n",
       "      <td>0</td>\n",
       "      <td>33</td>\n",
       "      <td>0</td>\n",
       "      <td>kinha</td>\n",
       "      <td>False</td>\n",
       "      <td>Sachin Kinha</td>\n",
       "      <td>41</td>\n",
       "      <td>40.235948</td>\n",
       "      <td>Unspecified</td>\n",
       "      <td>General Audience</td>\n",
       "      <td>Description not available.</td>\n",
       "    </tr>\n",
       "    <tr>\n",
       "      <th>4</th>\n",
       "      <td>1314</td>\n",
       "      <td>['SolTok', 50, 'Ride the wave of Solana with S...</td>\n",
       "      <td>😂#SOLANA #memecoin #crypto #dexscreener #bullrun</td>\n",
       "      <td>0</td>\n",
       "      <td>0</td>\n",
       "      <td>51</td>\n",
       "      <td>0</td>\n",
       "      <td>kinha</td>\n",
       "      <td>False</td>\n",
       "      <td>Sachin Kinha</td>\n",
       "      <td>38</td>\n",
       "      <td>41.845386</td>\n",
       "      <td>Unspecified</td>\n",
       "      <td>General Audience</td>\n",
       "      <td>Description not available.</td>\n",
       "    </tr>\n",
       "  </tbody>\n",
       "</table>\n",
       "</div>"
      ],
      "text/plain": [
       "     id                                           category  \\\n",
       "0  1291  ['SolTok', 50, 'Ride the wave of Solana with S...   \n",
       "1  1306  ['SolTok', 50, 'Ride the wave of Solana with S...   \n",
       "2  1276  ['SolTok', 50, 'Ride the wave of Solana with S...   \n",
       "3  1265  ['SolTok', 50, 'Ride the wave of Solana with S...   \n",
       "4  1314  ['SolTok', 50, 'Ride the wave of Solana with S...   \n",
       "\n",
       "                                               title  comment_count  \\\n",
       "0        Can Moo Deng’s MEME COIN GO HIGHER_ #shorts              0   \n",
       "1  Culture of Solana Token $COST.   #  2024  Trum...              0   \n",
       "2  Daily realisation #trading #crypto #bitcoin #e...              0   \n",
       "3  #crypto #cryptotrading #memecoin #solmemecoins...              0   \n",
       "4   😂#SOLANA #memecoin #crypto #dexscreener #bullrun              0   \n",
       "\n",
       "   upvote_count  view_count  share_count username  following          Name  \\\n",
       "0             0          23            0    kinha      False  Sachin Kinha   \n",
       "1             0          28            0    kinha      False  Sachin Kinha   \n",
       "2             0          51            0    kinha      False  Sachin Kinha   \n",
       "3             0          33            0    kinha      False  Sachin Kinha   \n",
       "4             0          51            0    kinha      False  Sachin Kinha   \n",
       "\n",
       "   posted_n_days_ago  popularity_score        genre targeted_audience  \\\n",
       "0                 41         41.210468  Unspecified  General Audience   \n",
       "1                 38         41.210468  Unspecified  General Audience   \n",
       "2                 41         43.002227  Unspecified  General Audience   \n",
       "3                 41         40.235948  Unspecified  General Audience   \n",
       "4                 38         41.845386  Unspecified  General Audience   \n",
       "\n",
       "             post_description  \n",
       "0  Description not available.  \n",
       "1  Description not available.  \n",
       "2  Description not available.  \n",
       "3  Description not available.  \n",
       "4  Description not available.  "
      ]
     },
     "execution_count": 524,
     "metadata": {},
     "output_type": "execute_result"
    }
   ],
   "source": [
    "data.head(5)"
   ]
  },
  {
   "cell_type": "markdown",
   "id": "11a8bd52-eddf-4f39-801e-d2aa5e1e6c0d",
   "metadata": {},
   "source": [
    "### Dropping the duplicates on the basis of id and title because the title of many videos can be same but if the id of two or more videos are same it means that it is a duplicate"
   ]
  },
  {
   "cell_type": "code",
   "execution_count": 525,
   "id": "9256cecb-ec77-4fd0-83c4-98fa2690b43c",
   "metadata": {},
   "outputs": [],
   "source": [
    "data.drop_duplicates(subset=['title','id'],inplace=True)"
   ]
  },
  {
   "cell_type": "markdown",
   "id": "0312318d-c2a2-43bd-a85a-5aceabfbef2d",
   "metadata": {},
   "source": [
    "### Creating a function for to get the tags for the data"
   ]
  },
  {
   "cell_type": "code",
   "execution_count": 526,
   "id": "436f53b0-4afb-4a71-a054-6adb675277d6",
   "metadata": {},
   "outputs": [],
   "source": [
    "def create_tags_no_nested(row):\n",
    "    tags = []\n",
    "    for col in columns_to_use:\n",
    "        value = row[col]\n",
    "        if pd.notna(value):  \n",
    "            if isinstance(value, (int, float, bool)):  \n",
    "                value = str(value)\n",
    "            elif isinstance(value, str) and value.startswith(\"[\") and value.endswith(\"]\"):\n",
    "                try:\n",
    "                    \n",
    "                    parsed_list = ast.literal_eval(value)\n",
    "                    if isinstance(parsed_list, list):  \n",
    "                        tags.extend([str(item).strip() for item in parsed_list])\n",
    "                except (ValueError, SyntaxError):\n",
    "                    tags.append(value.strip())  \n",
    "            else:\n",
    "              \n",
    "                tags.extend(value.split(',') if ',' in value else [value.strip()])\n",
    "    return [tag.strip().lower() for tag in tags if tag] \n",
    "    \n",
    "data['tags'] = data.apply(create_tags_no_nested, axis=1)"
   ]
  },
  {
   "cell_type": "markdown",
   "id": "3178fce0-ca99-4437-a1f4-c4db999e405f",
   "metadata": {},
   "source": [
    "### Creating a new data for the algorithm"
   ]
  },
  {
   "cell_type": "code",
   "execution_count": 527,
   "id": "889fa274-dbfb-41b9-9648-243e7340058a",
   "metadata": {},
   "outputs": [],
   "source": [
    "new=data[['id','title','tags','posted_n_days_ago','popularity_score']]"
   ]
  },
  {
   "cell_type": "code",
   "execution_count": 528,
   "id": "55b85cee-ff89-4742-975f-656ef1f78375",
   "metadata": {},
   "outputs": [
    {
     "data": {
      "text/html": [
       "<div>\n",
       "<style scoped>\n",
       "    .dataframe tbody tr th:only-of-type {\n",
       "        vertical-align: middle;\n",
       "    }\n",
       "\n",
       "    .dataframe tbody tr th {\n",
       "        vertical-align: top;\n",
       "    }\n",
       "\n",
       "    .dataframe thead th {\n",
       "        text-align: right;\n",
       "    }\n",
       "</style>\n",
       "<table border=\"1\" class=\"dataframe\">\n",
       "  <thead>\n",
       "    <tr style=\"text-align: right;\">\n",
       "      <th></th>\n",
       "      <th>id</th>\n",
       "      <th>title</th>\n",
       "      <th>tags</th>\n",
       "      <th>posted_n_days_ago</th>\n",
       "      <th>popularity_score</th>\n",
       "    </tr>\n",
       "  </thead>\n",
       "  <tbody>\n",
       "    <tr>\n",
       "      <th>0</th>\n",
       "      <td>1291</td>\n",
       "      <td>Can Moo Deng’s MEME COIN GO HIGHER_ #shorts</td>\n",
       "      <td>[sachin kinha, soltok, 50, ride the wave of so...</td>\n",
       "      <td>41</td>\n",
       "      <td>41.210468</td>\n",
       "    </tr>\n",
       "    <tr>\n",
       "      <th>1</th>\n",
       "      <td>1306</td>\n",
       "      <td>Culture of Solana Token $COST.   #  2024  Trum...</td>\n",
       "      <td>[sachin kinha, soltok, 50, ride the wave of so...</td>\n",
       "      <td>38</td>\n",
       "      <td>41.210468</td>\n",
       "    </tr>\n",
       "    <tr>\n",
       "      <th>2</th>\n",
       "      <td>1276</td>\n",
       "      <td>Daily realisation #trading #crypto #bitcoin #e...</td>\n",
       "      <td>[sachin kinha, soltok, 50, ride the wave of so...</td>\n",
       "      <td>41</td>\n",
       "      <td>43.002227</td>\n",
       "    </tr>\n",
       "    <tr>\n",
       "      <th>3</th>\n",
       "      <td>1265</td>\n",
       "      <td>#crypto #cryptotrading #memecoin #solmemecoins...</td>\n",
       "      <td>[sachin kinha, soltok, 50, ride the wave of so...</td>\n",
       "      <td>41</td>\n",
       "      <td>40.235948</td>\n",
       "    </tr>\n",
       "    <tr>\n",
       "      <th>4</th>\n",
       "      <td>1314</td>\n",
       "      <td>😂#SOLANA #memecoin #crypto #dexscreener #bullrun</td>\n",
       "      <td>[sachin kinha, soltok, 50, ride the wave of so...</td>\n",
       "      <td>38</td>\n",
       "      <td>41.845386</td>\n",
       "    </tr>\n",
       "  </tbody>\n",
       "</table>\n",
       "</div>"
      ],
      "text/plain": [
       "     id                                              title  \\\n",
       "0  1291        Can Moo Deng’s MEME COIN GO HIGHER_ #shorts   \n",
       "1  1306  Culture of Solana Token $COST.   #  2024  Trum...   \n",
       "2  1276  Daily realisation #trading #crypto #bitcoin #e...   \n",
       "3  1265  #crypto #cryptotrading #memecoin #solmemecoins...   \n",
       "4  1314   😂#SOLANA #memecoin #crypto #dexscreener #bullrun   \n",
       "\n",
       "                                                tags  posted_n_days_ago  \\\n",
       "0  [sachin kinha, soltok, 50, ride the wave of so...                 41   \n",
       "1  [sachin kinha, soltok, 50, ride the wave of so...                 38   \n",
       "2  [sachin kinha, soltok, 50, ride the wave of so...                 41   \n",
       "3  [sachin kinha, soltok, 50, ride the wave of so...                 41   \n",
       "4  [sachin kinha, soltok, 50, ride the wave of so...                 38   \n",
       "\n",
       "   popularity_score  \n",
       "0         41.210468  \n",
       "1         41.210468  \n",
       "2         43.002227  \n",
       "3         40.235948  \n",
       "4         41.845386  "
      ]
     },
     "execution_count": 528,
     "metadata": {},
     "output_type": "execute_result"
    }
   ],
   "source": [
    "new.head(5)"
   ]
  },
  {
   "cell_type": "code",
   "execution_count": 529,
   "id": "91fab288-c027-45b9-b2c1-4281135b8979",
   "metadata": {},
   "outputs": [
    {
     "name": "stderr",
     "output_type": "stream",
     "text": [
      "C:\\Users\\ASUS\\AppData\\Local\\Temp\\ipykernel_11584\\2093009410.py:2: SettingWithCopyWarning: \n",
      "A value is trying to be set on a copy of a slice from a DataFrame.\n",
      "Try using .loc[row_indexer,col_indexer] = value instead\n",
      "\n",
      "See the caveats in the documentation: https://pandas.pydata.org/pandas-docs/stable/user_guide/indexing.html#returning-a-view-versus-a-copy\n",
      "  new['tags'] = new['tags'].apply(lambda x: \" \".join(x))\n"
     ]
    },
    {
     "data": {
      "text/html": [
       "<div>\n",
       "<style scoped>\n",
       "    .dataframe tbody tr th:only-of-type {\n",
       "        vertical-align: middle;\n",
       "    }\n",
       "\n",
       "    .dataframe tbody tr th {\n",
       "        vertical-align: top;\n",
       "    }\n",
       "\n",
       "    .dataframe thead th {\n",
       "        text-align: right;\n",
       "    }\n",
       "</style>\n",
       "<table border=\"1\" class=\"dataframe\">\n",
       "  <thead>\n",
       "    <tr style=\"text-align: right;\">\n",
       "      <th></th>\n",
       "      <th>id</th>\n",
       "      <th>title</th>\n",
       "      <th>tags</th>\n",
       "      <th>posted_n_days_ago</th>\n",
       "      <th>popularity_score</th>\n",
       "    </tr>\n",
       "  </thead>\n",
       "  <tbody>\n",
       "    <tr>\n",
       "      <th>0</th>\n",
       "      <td>1291</td>\n",
       "      <td>Can Moo Deng’s MEME COIN GO HIGHER_ #shorts</td>\n",
       "      <td>sachin kinha soltok 50 ride the wave of solana...</td>\n",
       "      <td>41</td>\n",
       "      <td>41.210468</td>\n",
       "    </tr>\n",
       "    <tr>\n",
       "      <th>1</th>\n",
       "      <td>1306</td>\n",
       "      <td>Culture of Solana Token $COST.   #  2024  Trum...</td>\n",
       "      <td>sachin kinha soltok 50 ride the wave of solana...</td>\n",
       "      <td>38</td>\n",
       "      <td>41.210468</td>\n",
       "    </tr>\n",
       "    <tr>\n",
       "      <th>2</th>\n",
       "      <td>1276</td>\n",
       "      <td>Daily realisation #trading #crypto #bitcoin #e...</td>\n",
       "      <td>sachin kinha soltok 50 ride the wave of solana...</td>\n",
       "      <td>41</td>\n",
       "      <td>43.002227</td>\n",
       "    </tr>\n",
       "    <tr>\n",
       "      <th>3</th>\n",
       "      <td>1265</td>\n",
       "      <td>#crypto #cryptotrading #memecoin #solmemecoins...</td>\n",
       "      <td>sachin kinha soltok 50 ride the wave of solana...</td>\n",
       "      <td>41</td>\n",
       "      <td>40.235948</td>\n",
       "    </tr>\n",
       "    <tr>\n",
       "      <th>4</th>\n",
       "      <td>1314</td>\n",
       "      <td>😂#SOLANA #memecoin #crypto #dexscreener #bullrun</td>\n",
       "      <td>sachin kinha soltok 50 ride the wave of solana...</td>\n",
       "      <td>38</td>\n",
       "      <td>41.845386</td>\n",
       "    </tr>\n",
       "  </tbody>\n",
       "</table>\n",
       "</div>"
      ],
      "text/plain": [
       "     id                                              title  \\\n",
       "0  1291        Can Moo Deng’s MEME COIN GO HIGHER_ #shorts   \n",
       "1  1306  Culture of Solana Token $COST.   #  2024  Trum...   \n",
       "2  1276  Daily realisation #trading #crypto #bitcoin #e...   \n",
       "3  1265  #crypto #cryptotrading #memecoin #solmemecoins...   \n",
       "4  1314   😂#SOLANA #memecoin #crypto #dexscreener #bullrun   \n",
       "\n",
       "                                                tags  posted_n_days_ago  \\\n",
       "0  sachin kinha soltok 50 ride the wave of solana...                 41   \n",
       "1  sachin kinha soltok 50 ride the wave of solana...                 38   \n",
       "2  sachin kinha soltok 50 ride the wave of solana...                 41   \n",
       "3  sachin kinha soltok 50 ride the wave of solana...                 41   \n",
       "4  sachin kinha soltok 50 ride the wave of solana...                 38   \n",
       "\n",
       "   popularity_score  \n",
       "0         41.210468  \n",
       "1         41.210468  \n",
       "2         43.002227  \n",
       "3         40.235948  \n",
       "4         41.845386  "
      ]
     },
     "execution_count": 529,
     "metadata": {},
     "output_type": "execute_result"
    }
   ],
   "source": [
    "## Flattening the Lists of tags.\n",
    "new['tags'] = new['tags'].apply(lambda x: \" \".join(x))\n",
    "new.head()"
   ]
  },
  {
   "cell_type": "markdown",
   "id": "524a5704-9919-408d-a335-aeec18fdcad7",
   "metadata": {},
   "source": [
    "### Converting the tags into vectors for similarity search"
   ]
  },
  {
   "cell_type": "code",
   "execution_count": 530,
   "id": "2b4a3aa3-3021-4cc1-a191-fb3bea782dcd",
   "metadata": {},
   "outputs": [],
   "source": [
    "from sklearn.feature_extraction.text import CountVectorizer\n",
    "cv = CountVectorizer(max_features=5000,stop_words='english')"
   ]
  },
  {
   "cell_type": "code",
   "execution_count": 531,
   "id": "39fedaa7-4820-431c-a592-dbde8a6ca502",
   "metadata": {},
   "outputs": [],
   "source": [
    "vector = cv.fit_transform(new['tags']).toarray()"
   ]
  },
  {
   "cell_type": "code",
   "execution_count": 532,
   "id": "d499ac6d-0d0d-4524-acb3-df1350db34ac",
   "metadata": {},
   "outputs": [
    {
     "data": {
      "text/plain": [
       "(1003, 3747)"
      ]
     },
     "execution_count": 532,
     "metadata": {},
     "output_type": "execute_result"
    }
   ],
   "source": [
    "vector.shape"
   ]
  },
  {
   "cell_type": "markdown",
   "id": "4eb54621-f184-4c71-a215-cf6a3da76a9e",
   "metadata": {},
   "source": [
    "### Constructing the similarity Matrix"
   ]
  },
  {
   "cell_type": "code",
   "execution_count": 533,
   "id": "7face123-0325-489c-9d5d-22c7f3220d51",
   "metadata": {},
   "outputs": [],
   "source": [
    "from sklearn.metrics.pairwise import cosine_similarity\n"
   ]
  },
  {
   "cell_type": "code",
   "execution_count": 534,
   "id": "0299bd22-7a12-4f62-a6c8-c0310b4b7f4c",
   "metadata": {},
   "outputs": [],
   "source": [
    "similarity = cosine_similarity(vector)"
   ]
  },
  {
   "cell_type": "code",
   "execution_count": 535,
   "id": "dfde5956-396e-4a95-a60b-15f618e05992",
   "metadata": {},
   "outputs": [
    {
     "data": {
      "text/plain": [
       "array([[1.        , 1.        , 1.        , ..., 0.29633363, 0.24595493,\n",
       "        0.27498597],\n",
       "       [1.        , 1.        , 1.        , ..., 0.29633363, 0.24595493,\n",
       "        0.27498597],\n",
       "       [1.        , 1.        , 1.        , ..., 0.29633363, 0.24595493,\n",
       "        0.27498597],\n",
       "       ...,\n",
       "       [0.29633363, 0.29633363, 0.29633363, ..., 1.        , 0.37483569,\n",
       "        0.47894747],\n",
       "       [0.24595493, 0.24595493, 0.24595493, ..., 0.37483569, 1.        ,\n",
       "        0.3229876 ],\n",
       "       [0.27498597, 0.27498597, 0.27498597, ..., 0.47894747, 0.3229876 ,\n",
       "        1.        ]])"
      ]
     },
     "execution_count": 535,
     "metadata": {},
     "output_type": "execute_result"
    }
   ],
   "source": [
    "similarity"
   ]
  },
  {
   "cell_type": "markdown",
   "id": "9d2de9d9-ec8e-415a-ba86-35b9f5d4f517",
   "metadata": {},
   "source": [
    "# Function for Building the User Profile"
   ]
  },
  {
   "cell_type": "markdown",
   "id": "78a91942-3830-42b8-ac2f-18b9f9da0921",
   "metadata": {},
   "source": [
    "### Since i was not able to fetch the user data we will be creating a user profile based on the post data we have got\n",
    "#### 1. This function will be core for the personlized recommendations.\n",
    "#### 2. This function will return some things which will show tht interest of an user.such as the genres and the post summary of the video posted by the user in the last 7 days.\n",
    "#### 3. The most popular video posted by the user in the last 7 days will be given to the recommendation function which will return the recommendation."
   ]
  },
  {
   "cell_type": "code",
   "execution_count": 536,
   "id": "9577fe79-7e67-4ea9-b54d-2824e51f7b40",
   "metadata": {},
   "outputs": [],
   "source": [
    "##Function for building the user-profile\n",
    "def build_user_profile(username,data=data):\n",
    "    user_posts = data[data['username'] == username]\n",
    "    recent_posts = user_posts.sort_values('posted_n_days_ago', ascending=True).iloc[:7,:]\n",
    "    \n",
    "    user_genre=recent_posts['genre']\n",
    "    user_interest=recent_posts['post_description']\n",
    "    titles=recent_posts['title']\n",
    "    max=recent_posts['popularity_score'].max()\n",
    "    popular_post=recent_posts[recent_posts['popularity_score']==max].head(1)['title']\n",
    "    \n",
    " \n",
    "    user_profile = {\n",
    "        'genres': user_genre.to_list(),\n",
    "        'interest': user_interest.to_list(),\n",
    "        'title':titles.to_list(),\n",
    "        'popular_post':popular_post.to_list(),\n",
    "    }\n",
    "    \n",
    "    return user_profile"
   ]
  },
  {
   "cell_type": "markdown",
   "id": "a646d1c8-5845-40a4-b743-ee5abd7eb51b",
   "metadata": {},
   "source": [
    "## Function for Personlized Recommendations"
   ]
  },
  {
   "cell_type": "code",
   "execution_count": 537,
   "id": "4a78e24a-289a-44df-9ffa-e1986c7da531",
   "metadata": {},
   "outputs": [],
   "source": [
    "def personlized_recommendation(username,n=5):\n",
    "        user_profile = build_user_profile(username)\n",
    "        video=user_profile['popular_post'][0]\n",
    "        index = new[new['title'] == video].index[0]\n",
    "        distances = sorted(list(enumerate(similarity[index])), reverse=True, key=lambda x: x[1])\n",
    "        recommended_titles = [new.iloc[i[0]]['title'] for i in distances[1:n+1]]\n",
    "        return recommended_titles"
   ]
  },
  {
   "cell_type": "markdown",
   "id": "fd2b48da-1365-43a4-b5ed-761f356fd405",
   "metadata": {},
   "source": [
    "## Function for recommending videos for new Users on the basis of the genres they have selected "
   ]
  },
  {
   "cell_type": "code",
   "execution_count": 538,
   "id": "8f6c28f8-0243-45a3-97c6-07f98b7b9601",
   "metadata": {},
   "outputs": [],
   "source": [
    "def cold_start(username,n=2):\n",
    "    user_profile = build_user_profile(username)\n",
    "    result_videos = pd.DataFrame()\n",
    "    for genre in user_profile['genres']:\n",
    "        filtered_videos = user_posts[user_posts['genre'] == genre].sort_values(by='popularity_score', ascending=False).head(n)\n",
    "        result_videos = pd.concat([result_videos, filtered_videos], ignore_index=True).sort_values(by='popularity_score',ascending=False)\n",
    "    return set(result_videos['title'].to_list())"
   ]
  },
  {
   "cell_type": "markdown",
   "id": "8f361f66-24f2-45f4-89f9-bd68d9833db0",
   "metadata": {},
   "source": [
    "## Function for Recommending the trending videos"
   ]
  },
  {
   "cell_type": "code",
   "execution_count": 539,
   "id": "c7c302e8-a700-460e-8101-6146093dbea1",
   "metadata": {},
   "outputs": [],
   "source": [
    "def calculate_trending_score(df, weights=None):\n",
    "    if weights is None:\n",
    "        weights = {\n",
    "            'view_count': 0.3,\n",
    "            'upvote_count': 0.2,\n",
    "            'share_count': 0.2,\n",
    "            'comment_count': 0.1,\n",
    "            'popularity_score': 0.1,\n",
    "            'recency': 0.1\n",
    "        }\n",
    "    scaler = MinMaxScaler()\n",
    "    for col in ['view_count', 'upvote_count', 'share_count', 'comment_count', 'popularity_score']:\n",
    "        df[f'scaled_{col}'] = scaler.fit_transform(df[[col]])\n",
    "    df['recency_factor'] = 1 / (1 + df['posted_n_days_ago'])\n",
    "    df['trending_score'] = (\n",
    "        weights['view_count'] * df['scaled_view_count'] +\n",
    "        weights['upvote_count'] * df['scaled_upvote_count'] +\n",
    "        weights['share_count'] * df['scaled_share_count'] +\n",
    "        weights['comment_count'] * df['scaled_comment_count'] +\n",
    "        weights['popularity_score'] * df['scaled_popularity_score'] +\n",
    "        weights['recency'] * df['recency_factor']\n",
    "    )\n",
    "    \n",
    "    return df[['title', 'trending_score']].sort_values('trending_score', ascending=False).head(10)"
   ]
  },
  {
   "cell_type": "markdown",
   "id": "12b26b26-fe6d-4ddb-bcd1-a6bb3670c9dc",
   "metadata": {},
   "source": [
    "### Testing the function"
   ]
  },
  {
   "cell_type": "code",
   "execution_count": 540,
   "id": "2b7fb6a3-414e-4720-8a00-eb8a415c78ad",
   "metadata": {},
   "outputs": [
    {
     "name": "stdout",
     "output_type": "stream",
     "text": [
      "Content-Based Recommendations for Existing User:\n",
      "['Culture of Solana Token $COST.   #  2024  Trump.  Trump Supporters', 'Daily realisation #trading #crypto #bitcoin #ethereum #solana #memecoins', '#crypto #cryptotrading #memecoin #solmemecoins #solanamemecoin', '😂#SOLANA #memecoin #crypto #dexscreener #bullrun', 'Pump fun and the trenches in shambles #pumpfun #solana #memecoins']\n"
     ]
    }
   ],
   "source": [
    "print(\"Content-Based Recommendations for Existing User:\")\n",
    "videos=personlized_recommendation(username='kinha')\n",
    "print(videos)"
   ]
  },
  {
   "cell_type": "code",
   "execution_count": 541,
   "id": "de1b1b1a-d73e-415a-9287-d2f89472a20e",
   "metadata": {},
   "outputs": [
    {
     "name": "stdout",
     "output_type": "stream",
     "text": [
      "Recommendations for New User:\n",
      "{'act now!', 'push through the pain 🫡', 'UntitledVideo'}\n"
     ]
    }
   ],
   "source": [
    "print(\"Recommendations for New User:\")\n",
    "new_rec=cold_start(username='afrobeezy')\n",
    "print(new_rec)"
   ]
  },
  {
   "cell_type": "code",
   "execution_count": 542,
   "id": "d7820892-91e5-4daf-9407-1bfb29335727",
   "metadata": {},
   "outputs": [
    {
     "data": {
      "text/plain": [
       "['What is DAI Stablecoin',\n",
       " 'Silicon Valley Bank has sent shockwaves through the crypto world by causing $USDC to depeg.',\n",
       " 'Why Should I Buy $BNB === People always ask WHEN a good time to buy crypto is, but they should really be asking WHY they should',\n",
       " 'Did you miss out on $PEPE  \\u2028People turned $100 into $1 million in the past 30 day',\n",
       " 'UntitledVideo',\n",
       " 'Recipe for a flow state',\n",
       " 'UntitledVideo',\n",
       " 'Walk in nature daily. Because to spend time with beauty is to enrich your relationship with beauty.\\xa0#leadership #productivity #service',\n",
       " 'UntitledVideo',\n",
       " \"Big News_ Blackrock's Ethereum ETF Likely to Be Approved in July! This will cause a big pump for the crypto market so now is the tike to front run #cryptonews #ethereum #eth #fyp #foryou #CapCut\"]"
      ]
     },
     "execution_count": 542,
     "metadata": {},
     "output_type": "execute_result"
    }
   ],
   "source": [
    "trending_videos = calculate_trending_score(data)\n",
    "trending_videos['title'].to_list()"
   ]
  },
  {
   "cell_type": "markdown",
   "id": "c7b4a783-dd1d-4843-bfe8-91d9d38b8a5b",
   "metadata": {},
   "source": [
    "## End of Project"
   ]
  }
 ],
 "metadata": {
  "kernelspec": {
   "display_name": "Python 3 (ipykernel)",
   "language": "python",
   "name": "python3"
  },
  "language_info": {
   "codemirror_mode": {
    "name": "ipython",
    "version": 3
   },
   "file_extension": ".py",
   "mimetype": "text/x-python",
   "name": "python",
   "nbconvert_exporter": "python",
   "pygments_lexer": "ipython3",
   "version": "3.12.4"
  }
 },
 "nbformat": 4,
 "nbformat_minor": 5
}
