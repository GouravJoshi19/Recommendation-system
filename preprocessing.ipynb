{
 "cells": [
  {
   "cell_type": "markdown",
   "id": "9ce10c0d-fae7-4baa-8728-f7741c1ae1b4",
   "metadata": {},
   "source": [
    "## Importing the Required Libraries"
   ]
  },
  {
   "cell_type": "code",
   "execution_count": 1,
   "id": "a48a78b3-88c1-4737-92db-299ab8fdd02c",
   "metadata": {},
   "outputs": [],
   "source": [
    "import numpy as np \n",
    "import pandas as pd\n",
    "import requests"
   ]
  },
  {
   "cell_type": "markdown",
   "id": "88390faa-6d4a-4d73-8c63-6f9bed2eb671",
   "metadata": {},
   "source": [
    "## Loading the Data Using the API's"
   ]
  },
  {
   "cell_type": "code",
   "execution_count": 2,
   "id": "3c5ec950-a7cb-4757-9940-d6b85582d8f4",
   "metadata": {},
   "outputs": [],
   "source": [
    "base_url='https://api.socialverseapp.com'\n",
    "headers={'flic-token':\"flic_1e01009f9c1a54706f385bcc1993a08fd9647ba8f499572d280654d1c03c47bf\"}"
   ]
  },
  {
   "cell_type": "markdown",
   "id": "93f6d537-11c5-4350-9b9a-65229e3e2c00",
   "metadata": {},
   "source": [
    "### 1.Loading The Views Data"
   ]
  },
  {
   "cell_type": "code",
   "execution_count": 3,
   "id": "f6795a96-687b-4f16-8384-b90c81062549",
   "metadata": {},
   "outputs": [
    {
     "data": {
      "text/html": [
       "<div>\n",
       "<style scoped>\n",
       "    .dataframe tbody tr th:only-of-type {\n",
       "        vertical-align: middle;\n",
       "    }\n",
       "\n",
       "    .dataframe tbody tr th {\n",
       "        vertical-align: top;\n",
       "    }\n",
       "\n",
       "    .dataframe thead th {\n",
       "        text-align: right;\n",
       "    }\n",
       "</style>\n",
       "<table border=\"1\" class=\"dataframe\">\n",
       "  <thead>\n",
       "    <tr style=\"text-align: right;\">\n",
       "      <th></th>\n",
       "      <th>id</th>\n",
       "      <th>category</th>\n",
       "      <th>slug</th>\n",
       "      <th>title</th>\n",
       "      <th>identifier</th>\n",
       "      <th>comment_count</th>\n",
       "      <th>upvote_count</th>\n",
       "      <th>view_count</th>\n",
       "      <th>exit_count</th>\n",
       "      <th>rating_count</th>\n",
       "      <th>...</th>\n",
       "      <th>first_name</th>\n",
       "      <th>last_name</th>\n",
       "      <th>username</th>\n",
       "      <th>upvoted</th>\n",
       "      <th>bookmarked</th>\n",
       "      <th>thumbnail_url</th>\n",
       "      <th>gif_thumbnail_url</th>\n",
       "      <th>following</th>\n",
       "      <th>picture_url</th>\n",
       "      <th>post_summary</th>\n",
       "    </tr>\n",
       "  </thead>\n",
       "  <tbody>\n",
       "    <tr>\n",
       "      <th>0</th>\n",
       "      <td>56</td>\n",
       "      <td>{'id': 2, 'name': 'Vible', 'count': 534, 'desc...</td>\n",
       "      <td>keep-on-fighting</td>\n",
       "      <td>keep on fighting!! 😤</td>\n",
       "      <td>3Q-c1-p</td>\n",
       "      <td>0</td>\n",
       "      <td>6</td>\n",
       "      <td>87</td>\n",
       "      <td>2</td>\n",
       "      <td>34</td>\n",
       "      <td>...</td>\n",
       "      <td>Michael</td>\n",
       "      <td>Dadzie</td>\n",
       "      <td>mike</td>\n",
       "      <td>False</td>\n",
       "      <td>False</td>\n",
       "      <td>https://video-cdn.socialverseapp.com/mike_1b7f...</td>\n",
       "      <td></td>\n",
       "      <td>False</td>\n",
       "      <td>https://assets.socialverseapp.com/profile/mike...</td>\n",
       "      <td>[]</td>\n",
       "    </tr>\n",
       "    <tr>\n",
       "      <th>1</th>\n",
       "      <td>40</td>\n",
       "      <td>{'id': 2, 'name': 'Vible', 'count': 534, 'desc...</td>\n",
       "      <td>trials-to-test-you</td>\n",
       "      <td>trials to test you...</td>\n",
       "      <td>LDq-waR</td>\n",
       "      <td>0</td>\n",
       "      <td>3</td>\n",
       "      <td>47</td>\n",
       "      <td>17</td>\n",
       "      <td>11</td>\n",
       "      <td>...</td>\n",
       "      <td>Michael</td>\n",
       "      <td>Dadzie</td>\n",
       "      <td>mike</td>\n",
       "      <td>False</td>\n",
       "      <td>False</td>\n",
       "      <td>https://video-cdn.socialverseapp.com/mike_c58d...</td>\n",
       "      <td></td>\n",
       "      <td>False</td>\n",
       "      <td>https://assets.socialverseapp.com/profile/mike...</td>\n",
       "      <td>[]</td>\n",
       "    </tr>\n",
       "    <tr>\n",
       "      <th>2</th>\n",
       "      <td>47</td>\n",
       "      <td>{'id': 2, 'name': 'Vible', 'count': 534, 'desc...</td>\n",
       "      <td>be-aware</td>\n",
       "      <td>be aware...</td>\n",
       "      <td>ZtfV2v8</td>\n",
       "      <td>0</td>\n",
       "      <td>1</td>\n",
       "      <td>16</td>\n",
       "      <td>0</td>\n",
       "      <td>5</td>\n",
       "      <td>...</td>\n",
       "      <td>Michael</td>\n",
       "      <td>Dadzie</td>\n",
       "      <td>mike</td>\n",
       "      <td>False</td>\n",
       "      <td>False</td>\n",
       "      <td>https://video-cdn.socialverseapp.com/mike_f7d5...</td>\n",
       "      <td></td>\n",
       "      <td>False</td>\n",
       "      <td>https://assets.socialverseapp.com/profile/mike...</td>\n",
       "      <td>[]</td>\n",
       "    </tr>\n",
       "    <tr>\n",
       "      <th>3</th>\n",
       "      <td>1307</td>\n",
       "      <td>{'id': 22, 'name': 'SolTok', 'count': 50, 'des...</td>\n",
       "      <td>5269730f5298d3088f669a34d44558360f82fe41</td>\n",
       "      <td>stevencrypto321 - 7412525180750433582</td>\n",
       "      <td>GGl66ba</td>\n",
       "      <td>0</td>\n",
       "      <td>0</td>\n",
       "      <td>31</td>\n",
       "      <td>401</td>\n",
       "      <td>2</td>\n",
       "      <td>...</td>\n",
       "      <td>Sachin</td>\n",
       "      <td>Kinha</td>\n",
       "      <td>kinha</td>\n",
       "      <td>False</td>\n",
       "      <td>False</td>\n",
       "      <td>https://video-cdn.socialverseapp.com/kinha_91b...</td>\n",
       "      <td>https://video-cdn.socialverseapp.com/kinha_91b...</td>\n",
       "      <td>False</td>\n",
       "      <td>https://assets.socialverseapp.com/profile/kinh...</td>\n",
       "      <td>[]</td>\n",
       "    </tr>\n",
       "    <tr>\n",
       "      <th>4</th>\n",
       "      <td>1311</td>\n",
       "      <td>{'id': 22, 'name': 'SolTok', 'count': 50, 'des...</td>\n",
       "      <td>5521f14ee0a2a575cd7a15e14ad1aafc20ec14b1</td>\n",
       "      <td>Love to see this #solana #crypto #shitcoins #m...</td>\n",
       "      <td>FIy1DWh</td>\n",
       "      <td>0</td>\n",
       "      <td>3</td>\n",
       "      <td>35</td>\n",
       "      <td>492</td>\n",
       "      <td>10</td>\n",
       "      <td>...</td>\n",
       "      <td>Sachin</td>\n",
       "      <td>Kinha</td>\n",
       "      <td>kinha</td>\n",
       "      <td>False</td>\n",
       "      <td>False</td>\n",
       "      <td>https://video-cdn.socialverseapp.com/kinha_8bf...</td>\n",
       "      <td>https://video-cdn.socialverseapp.com/kinha_8bf...</td>\n",
       "      <td>False</td>\n",
       "      <td>https://assets.socialverseapp.com/profile/kinh...</td>\n",
       "      <td>[]</td>\n",
       "    </tr>\n",
       "  </tbody>\n",
       "</table>\n",
       "<p>5 rows × 29 columns</p>\n",
       "</div>"
      ],
      "text/plain": [
       "     id                                           category  \\\n",
       "0    56  {'id': 2, 'name': 'Vible', 'count': 534, 'desc...   \n",
       "1    40  {'id': 2, 'name': 'Vible', 'count': 534, 'desc...   \n",
       "2    47  {'id': 2, 'name': 'Vible', 'count': 534, 'desc...   \n",
       "3  1307  {'id': 22, 'name': 'SolTok', 'count': 50, 'des...   \n",
       "4  1311  {'id': 22, 'name': 'SolTok', 'count': 50, 'des...   \n",
       "\n",
       "                                       slug  \\\n",
       "0                          keep-on-fighting   \n",
       "1                        trials-to-test-you   \n",
       "2                                  be-aware   \n",
       "3  5269730f5298d3088f669a34d44558360f82fe41   \n",
       "4  5521f14ee0a2a575cd7a15e14ad1aafc20ec14b1   \n",
       "\n",
       "                                               title identifier  \\\n",
       "0                               keep on fighting!! 😤    3Q-c1-p   \n",
       "1                              trials to test you...    LDq-waR   \n",
       "2                                        be aware...    ZtfV2v8   \n",
       "3              stevencrypto321 - 7412525180750433582    GGl66ba   \n",
       "4  Love to see this #solana #crypto #shitcoins #m...    FIy1DWh   \n",
       "\n",
       "   comment_count  upvote_count  view_count  exit_count  rating_count  ...  \\\n",
       "0              0             6          87           2            34  ...   \n",
       "1              0             3          47          17            11  ...   \n",
       "2              0             1          16           0             5  ...   \n",
       "3              0             0          31         401             2  ...   \n",
       "4              0             3          35         492            10  ...   \n",
       "\n",
       "   first_name  last_name username upvoted bookmarked  \\\n",
       "0     Michael     Dadzie     mike   False      False   \n",
       "1     Michael     Dadzie     mike   False      False   \n",
       "2     Michael     Dadzie     mike   False      False   \n",
       "3      Sachin      Kinha    kinha   False      False   \n",
       "4      Sachin      Kinha    kinha   False      False   \n",
       "\n",
       "                                       thumbnail_url  \\\n",
       "0  https://video-cdn.socialverseapp.com/mike_1b7f...   \n",
       "1  https://video-cdn.socialverseapp.com/mike_c58d...   \n",
       "2  https://video-cdn.socialverseapp.com/mike_f7d5...   \n",
       "3  https://video-cdn.socialverseapp.com/kinha_91b...   \n",
       "4  https://video-cdn.socialverseapp.com/kinha_8bf...   \n",
       "\n",
       "                                   gif_thumbnail_url  following  \\\n",
       "0                                                         False   \n",
       "1                                                         False   \n",
       "2                                                         False   \n",
       "3  https://video-cdn.socialverseapp.com/kinha_91b...      False   \n",
       "4  https://video-cdn.socialverseapp.com/kinha_8bf...      False   \n",
       "\n",
       "                                         picture_url post_summary  \n",
       "0  https://assets.socialverseapp.com/profile/mike...           []  \n",
       "1  https://assets.socialverseapp.com/profile/mike...           []  \n",
       "2  https://assets.socialverseapp.com/profile/mike...           []  \n",
       "3  https://assets.socialverseapp.com/profile/kinh...           []  \n",
       "4  https://assets.socialverseapp.com/profile/kinh...           []  \n",
       "\n",
       "[5 rows x 29 columns]"
      ]
     },
     "execution_count": 3,
     "metadata": {},
     "output_type": "execute_result"
    }
   ],
   "source": [
    "views=requests.get(f'{base_url}/posts/view?page=1&page_size=1000&resonance_algorithm=resonance_algorithm_cjsvervb7dbhss8bdrj89s44jfjdbsjd0xnjkbvuire8zcjwerui3njfbvsujc5if',headers=headers).json()\n",
    "df_views=pd.DataFrame(views['posts'])\n",
    "df_views.head()"
   ]
  },
  {
   "cell_type": "markdown",
   "id": "72257321-222b-4b56-af45-622f6b099232",
   "metadata": {},
   "source": [
    "### 2. Loading the Likes Data"
   ]
  },
  {
   "cell_type": "code",
   "execution_count": 4,
   "id": "2bf70e94-4d3a-448c-b601-2df1112c6f85",
   "metadata": {},
   "outputs": [
    {
     "data": {
      "text/html": [
       "<div>\n",
       "<style scoped>\n",
       "    .dataframe tbody tr th:only-of-type {\n",
       "        vertical-align: middle;\n",
       "    }\n",
       "\n",
       "    .dataframe tbody tr th {\n",
       "        vertical-align: top;\n",
       "    }\n",
       "\n",
       "    .dataframe thead th {\n",
       "        text-align: right;\n",
       "    }\n",
       "</style>\n",
       "<table border=\"1\" class=\"dataframe\">\n",
       "  <thead>\n",
       "    <tr style=\"text-align: right;\">\n",
       "      <th></th>\n",
       "      <th>id</th>\n",
       "      <th>category</th>\n",
       "      <th>slug</th>\n",
       "      <th>title</th>\n",
       "      <th>identifier</th>\n",
       "      <th>comment_count</th>\n",
       "      <th>upvote_count</th>\n",
       "      <th>view_count</th>\n",
       "      <th>exit_count</th>\n",
       "      <th>rating_count</th>\n",
       "      <th>...</th>\n",
       "      <th>first_name</th>\n",
       "      <th>last_name</th>\n",
       "      <th>username</th>\n",
       "      <th>upvoted</th>\n",
       "      <th>bookmarked</th>\n",
       "      <th>thumbnail_url</th>\n",
       "      <th>gif_thumbnail_url</th>\n",
       "      <th>following</th>\n",
       "      <th>picture_url</th>\n",
       "      <th>post_summary</th>\n",
       "    </tr>\n",
       "  </thead>\n",
       "  <tbody>\n",
       "    <tr>\n",
       "      <th>0</th>\n",
       "      <td>1292</td>\n",
       "      <td>{'id': 22, 'name': 'SolTok', 'count': 50, 'des...</td>\n",
       "      <td>d4388c21bb5610d12a7f59f40b88d13473c5fb74</td>\n",
       "      <td>Day 22 turning $100 into 100000 by trading mem...</td>\n",
       "      <td>7LUUxsH</td>\n",
       "      <td>3</td>\n",
       "      <td>3</td>\n",
       "      <td>76</td>\n",
       "      <td>497</td>\n",
       "      <td>14</td>\n",
       "      <td>...</td>\n",
       "      <td>Sachin</td>\n",
       "      <td>Kinha</td>\n",
       "      <td>kinha</td>\n",
       "      <td>False</td>\n",
       "      <td>False</td>\n",
       "      <td>https://video-cdn.socialverseapp.com/kinha_394...</td>\n",
       "      <td>https://video-cdn.socialverseapp.com/kinha_394...</td>\n",
       "      <td>False</td>\n",
       "      <td>https://assets.socialverseapp.com/profile/kinh...</td>\n",
       "      <td>[]</td>\n",
       "    </tr>\n",
       "    <tr>\n",
       "      <th>1</th>\n",
       "      <td>1312</td>\n",
       "      <td>{'id': 22, 'name': 'SolTok', 'count': 50, 'des...</td>\n",
       "      <td>a8851e3e8cf8a993742489ef3d2248f08b6fbfa4</td>\n",
       "      <td>Culture of solana $COST.  New META for bullrun...</td>\n",
       "      <td>wP6RbcB</td>\n",
       "      <td>2</td>\n",
       "      <td>2</td>\n",
       "      <td>24</td>\n",
       "      <td>468</td>\n",
       "      <td>3</td>\n",
       "      <td>...</td>\n",
       "      <td>Sachin</td>\n",
       "      <td>Kinha</td>\n",
       "      <td>kinha</td>\n",
       "      <td>False</td>\n",
       "      <td>False</td>\n",
       "      <td>https://video-cdn.socialverseapp.com/kinha_fec...</td>\n",
       "      <td>https://video-cdn.socialverseapp.com/kinha_fec...</td>\n",
       "      <td>False</td>\n",
       "      <td>https://assets.socialverseapp.com/profile/kinh...</td>\n",
       "      <td>[]</td>\n",
       "    </tr>\n",
       "    <tr>\n",
       "      <th>2</th>\n",
       "      <td>1064</td>\n",
       "      <td>{'id': 21, 'name': 'Pumptok', 'count': 19, 'de...</td>\n",
       "      <td>a6a18e5f71b4c6a7969493739bd77945de973f0d</td>\n",
       "      <td>What is DAI Stablecoin</td>\n",
       "      <td>KYMatk6</td>\n",
       "      <td>18</td>\n",
       "      <td>60</td>\n",
       "      <td>473</td>\n",
       "      <td>1</td>\n",
       "      <td>0</td>\n",
       "      <td>...</td>\n",
       "      <td>Sachin</td>\n",
       "      <td>Kinha</td>\n",
       "      <td>kinha</td>\n",
       "      <td>False</td>\n",
       "      <td>False</td>\n",
       "      <td>https://video-cdn.socialverseapp.com/kinha_704...</td>\n",
       "      <td></td>\n",
       "      <td>False</td>\n",
       "      <td>https://assets.socialverseapp.com/profile/kinh...</td>\n",
       "      <td>[]</td>\n",
       "    </tr>\n",
       "    <tr>\n",
       "      <th>3</th>\n",
       "      <td>426</td>\n",
       "      <td>{'id': 2, 'name': 'Vible', 'count': 534, 'desc...</td>\n",
       "      <td>534d6e128242b68c9001b3e079873f07b801e3ce</td>\n",
       "      <td></td>\n",
       "      <td>XTA-jKr</td>\n",
       "      <td>1</td>\n",
       "      <td>3</td>\n",
       "      <td>22</td>\n",
       "      <td>2</td>\n",
       "      <td>6</td>\n",
       "      <td>...</td>\n",
       "      <td>Sachin</td>\n",
       "      <td>Kinha</td>\n",
       "      <td>kinha</td>\n",
       "      <td>False</td>\n",
       "      <td>False</td>\n",
       "      <td>https://video-cdn.socialverseapp.com/kinha_8fb...</td>\n",
       "      <td></td>\n",
       "      <td>False</td>\n",
       "      <td>https://assets.socialverseapp.com/profile/kinh...</td>\n",
       "      <td>[]</td>\n",
       "    </tr>\n",
       "    <tr>\n",
       "      <th>4</th>\n",
       "      <td>1110</td>\n",
       "      <td>{'id': 2, 'name': 'Vible', 'count': 534, 'desc...</td>\n",
       "      <td>b296f7b713010a951d33095b965fdddd35973f37</td>\n",
       "      <td>You can win the “Rat Race” but you will still ...</td>\n",
       "      <td>UfpAoNk</td>\n",
       "      <td>0</td>\n",
       "      <td>6</td>\n",
       "      <td>24</td>\n",
       "      <td>0</td>\n",
       "      <td>4</td>\n",
       "      <td>...</td>\n",
       "      <td>Sachin</td>\n",
       "      <td>Kinha</td>\n",
       "      <td>kinha</td>\n",
       "      <td>False</td>\n",
       "      <td>False</td>\n",
       "      <td>https://video-cdn.socialverseapp.com/kinha_e9c...</td>\n",
       "      <td></td>\n",
       "      <td>False</td>\n",
       "      <td>https://assets.socialverseapp.com/profile/kinh...</td>\n",
       "      <td>[]</td>\n",
       "    </tr>\n",
       "  </tbody>\n",
       "</table>\n",
       "<p>5 rows × 29 columns</p>\n",
       "</div>"
      ],
      "text/plain": [
       "     id                                           category  \\\n",
       "0  1292  {'id': 22, 'name': 'SolTok', 'count': 50, 'des...   \n",
       "1  1312  {'id': 22, 'name': 'SolTok', 'count': 50, 'des...   \n",
       "2  1064  {'id': 21, 'name': 'Pumptok', 'count': 19, 'de...   \n",
       "3   426  {'id': 2, 'name': 'Vible', 'count': 534, 'desc...   \n",
       "4  1110  {'id': 2, 'name': 'Vible', 'count': 534, 'desc...   \n",
       "\n",
       "                                       slug  \\\n",
       "0  d4388c21bb5610d12a7f59f40b88d13473c5fb74   \n",
       "1  a8851e3e8cf8a993742489ef3d2248f08b6fbfa4   \n",
       "2  a6a18e5f71b4c6a7969493739bd77945de973f0d   \n",
       "3  534d6e128242b68c9001b3e079873f07b801e3ce   \n",
       "4  b296f7b713010a951d33095b965fdddd35973f37   \n",
       "\n",
       "                                               title identifier  \\\n",
       "0  Day 22 turning $100 into 100000 by trading mem...    7LUUxsH   \n",
       "1  Culture of solana $COST.  New META for bullrun...    wP6RbcB   \n",
       "2                             What is DAI Stablecoin    KYMatk6   \n",
       "3                                                       XTA-jKr   \n",
       "4  You can win the “Rat Race” but you will still ...    UfpAoNk   \n",
       "\n",
       "   comment_count  upvote_count  view_count  exit_count  rating_count  ...  \\\n",
       "0              3             3          76         497            14  ...   \n",
       "1              2             2          24         468             3  ...   \n",
       "2             18            60         473           1             0  ...   \n",
       "3              1             3          22           2             6  ...   \n",
       "4              0             6          24           0             4  ...   \n",
       "\n",
       "   first_name  last_name username upvoted bookmarked  \\\n",
       "0      Sachin      Kinha    kinha   False      False   \n",
       "1      Sachin      Kinha    kinha   False      False   \n",
       "2      Sachin      Kinha    kinha   False      False   \n",
       "3      Sachin      Kinha    kinha   False      False   \n",
       "4      Sachin      Kinha    kinha   False      False   \n",
       "\n",
       "                                       thumbnail_url  \\\n",
       "0  https://video-cdn.socialverseapp.com/kinha_394...   \n",
       "1  https://video-cdn.socialverseapp.com/kinha_fec...   \n",
       "2  https://video-cdn.socialverseapp.com/kinha_704...   \n",
       "3  https://video-cdn.socialverseapp.com/kinha_8fb...   \n",
       "4  https://video-cdn.socialverseapp.com/kinha_e9c...   \n",
       "\n",
       "                                   gif_thumbnail_url  following  \\\n",
       "0  https://video-cdn.socialverseapp.com/kinha_394...      False   \n",
       "1  https://video-cdn.socialverseapp.com/kinha_fec...      False   \n",
       "2                                                         False   \n",
       "3                                                         False   \n",
       "4                                                         False   \n",
       "\n",
       "                                         picture_url post_summary  \n",
       "0  https://assets.socialverseapp.com/profile/kinh...           []  \n",
       "1  https://assets.socialverseapp.com/profile/kinh...           []  \n",
       "2  https://assets.socialverseapp.com/profile/kinh...           []  \n",
       "3  https://assets.socialverseapp.com/profile/kinh...           []  \n",
       "4  https://assets.socialverseapp.com/profile/kinh...           []  \n",
       "\n",
       "[5 rows x 29 columns]"
      ]
     },
     "execution_count": 4,
     "metadata": {},
     "output_type": "execute_result"
    }
   ],
   "source": [
    "likes=requests.get(f'{base_url}/posts/like?page=1&page_size=5&resonance_algorithm=resonance_algorithm_cjsvervb7dbhss8bdrj89s44jfjdbsjd0xnjkbvuire8zcjwerui3njfbvsujc5if',headers=headers).json()\n",
    "df_likes=pd.DataFrame(likes['posts'])\n",
    "df_likes.head()"
   ]
  },
  {
   "cell_type": "markdown",
   "id": "78d9d90c-3427-4daa-8ec8-78929f4d8696",
   "metadata": {},
   "source": [
    "### 3.Loading the Rating Data"
   ]
  },
  {
   "cell_type": "code",
   "execution_count": 5,
   "id": "f7b62cdf-a8b7-4c99-9df2-b5f207e40756",
   "metadata": {},
   "outputs": [
    {
     "data": {
      "text/html": [
       "<div>\n",
       "<style scoped>\n",
       "    .dataframe tbody tr th:only-of-type {\n",
       "        vertical-align: middle;\n",
       "    }\n",
       "\n",
       "    .dataframe tbody tr th {\n",
       "        vertical-align: top;\n",
       "    }\n",
       "\n",
       "    .dataframe thead th {\n",
       "        text-align: right;\n",
       "    }\n",
       "</style>\n",
       "<table border=\"1\" class=\"dataframe\">\n",
       "  <thead>\n",
       "    <tr style=\"text-align: right;\">\n",
       "      <th></th>\n",
       "      <th>id</th>\n",
       "      <th>category</th>\n",
       "      <th>slug</th>\n",
       "      <th>title</th>\n",
       "      <th>identifier</th>\n",
       "      <th>comment_count</th>\n",
       "      <th>upvote_count</th>\n",
       "      <th>view_count</th>\n",
       "      <th>exit_count</th>\n",
       "      <th>rating_count</th>\n",
       "      <th>...</th>\n",
       "      <th>first_name</th>\n",
       "      <th>last_name</th>\n",
       "      <th>username</th>\n",
       "      <th>upvoted</th>\n",
       "      <th>bookmarked</th>\n",
       "      <th>thumbnail_url</th>\n",
       "      <th>gif_thumbnail_url</th>\n",
       "      <th>following</th>\n",
       "      <th>picture_url</th>\n",
       "      <th>post_summary</th>\n",
       "    </tr>\n",
       "  </thead>\n",
       "  <tbody>\n",
       "    <tr>\n",
       "      <th>0</th>\n",
       "      <td>1306</td>\n",
       "      <td>{'id': 22, 'name': 'SolTok', 'count': 50, 'des...</td>\n",
       "      <td>aa10264283a6b879d5f92485c3d7a53b42d0ed42</td>\n",
       "      <td>Culture of Solana Token $COST.   #  2024  Trum...</td>\n",
       "      <td>3WnTZUH</td>\n",
       "      <td>0</td>\n",
       "      <td>0</td>\n",
       "      <td>29</td>\n",
       "      <td>462</td>\n",
       "      <td>6</td>\n",
       "      <td>...</td>\n",
       "      <td>Sachin</td>\n",
       "      <td>Kinha</td>\n",
       "      <td>kinha</td>\n",
       "      <td>False</td>\n",
       "      <td>False</td>\n",
       "      <td>https://video-cdn.socialverseapp.com/kinha_b46...</td>\n",
       "      <td>https://video-cdn.socialverseapp.com/kinha_b46...</td>\n",
       "      <td>False</td>\n",
       "      <td>https://assets.socialverseapp.com/profile/kinh...</td>\n",
       "      <td>[]</td>\n",
       "    </tr>\n",
       "    <tr>\n",
       "      <th>1</th>\n",
       "      <td>1276</td>\n",
       "      <td>{'id': 22, 'name': 'SolTok', 'count': 50, 'des...</td>\n",
       "      <td>1f76d6485a811c69d0b5fa6fefcdf13bd4aab34d</td>\n",
       "      <td>Daily realisation #trading #crypto #bitcoin #e...</td>\n",
       "      <td>nZ1z_u-</td>\n",
       "      <td>0</td>\n",
       "      <td>0</td>\n",
       "      <td>53</td>\n",
       "      <td>456</td>\n",
       "      <td>6</td>\n",
       "      <td>...</td>\n",
       "      <td>Sachin</td>\n",
       "      <td>Kinha</td>\n",
       "      <td>kinha</td>\n",
       "      <td>False</td>\n",
       "      <td>False</td>\n",
       "      <td>https://video-cdn.socialverseapp.com/kinha_2fd...</td>\n",
       "      <td>https://video-cdn.socialverseapp.com/kinha_2fd...</td>\n",
       "      <td>False</td>\n",
       "      <td>https://assets.socialverseapp.com/profile/kinh...</td>\n",
       "      <td>[]</td>\n",
       "    </tr>\n",
       "    <tr>\n",
       "      <th>2</th>\n",
       "      <td>1313</td>\n",
       "      <td>{'id': 22, 'name': 'SolTok', 'count': 50, 'des...</td>\n",
       "      <td>8e5cce4c3a7feed93ee6b6c457a0adafaba0c7dd</td>\n",
       "      <td>solana.memecoins - 7367640108956175649</td>\n",
       "      <td>iP1RWAn</td>\n",
       "      <td>0</td>\n",
       "      <td>1</td>\n",
       "      <td>53</td>\n",
       "      <td>369</td>\n",
       "      <td>5</td>\n",
       "      <td>...</td>\n",
       "      <td>Sachin</td>\n",
       "      <td>Kinha</td>\n",
       "      <td>kinha</td>\n",
       "      <td>False</td>\n",
       "      <td>False</td>\n",
       "      <td>https://video-cdn.socialverseapp.com/kinha_e8c...</td>\n",
       "      <td>https://video-cdn.socialverseapp.com/kinha_e8c...</td>\n",
       "      <td>False</td>\n",
       "      <td>https://assets.socialverseapp.com/profile/kinh...</td>\n",
       "      <td>[]</td>\n",
       "    </tr>\n",
       "    <tr>\n",
       "      <th>3</th>\n",
       "      <td>1262</td>\n",
       "      <td>{'id': 22, 'name': 'SolTok', 'count': 50, 'des...</td>\n",
       "      <td>2587facb19d58cc47ac4a1dc57ca93deddcc8cef</td>\n",
       "      <td>Solana price prediction in 2025! #solana #sol ...</td>\n",
       "      <td>8Hx-9o1</td>\n",
       "      <td>0</td>\n",
       "      <td>0</td>\n",
       "      <td>34</td>\n",
       "      <td>391</td>\n",
       "      <td>6</td>\n",
       "      <td>...</td>\n",
       "      <td>Sachin</td>\n",
       "      <td>Kinha</td>\n",
       "      <td>kinha</td>\n",
       "      <td>False</td>\n",
       "      <td>False</td>\n",
       "      <td>https://video-cdn.socialverseapp.com/kinha_421...</td>\n",
       "      <td>https://video-cdn.socialverseapp.com/kinha_421...</td>\n",
       "      <td>False</td>\n",
       "      <td>https://assets.socialverseapp.com/profile/kinh...</td>\n",
       "      <td>[]</td>\n",
       "    </tr>\n",
       "    <tr>\n",
       "      <th>4</th>\n",
       "      <td>1288</td>\n",
       "      <td>{'id': 22, 'name': 'SolTok', 'count': 50, 'des...</td>\n",
       "      <td>ff9774e14014f2deb15102197e14e093abe2087c</td>\n",
       "      <td>Trading memecoins in 2024 ____ $DUKO ON SOLANA...</td>\n",
       "      <td>Mvsv3jt</td>\n",
       "      <td>1</td>\n",
       "      <td>0</td>\n",
       "      <td>32</td>\n",
       "      <td>488</td>\n",
       "      <td>8</td>\n",
       "      <td>...</td>\n",
       "      <td>Sachin</td>\n",
       "      <td>Kinha</td>\n",
       "      <td>kinha</td>\n",
       "      <td>False</td>\n",
       "      <td>False</td>\n",
       "      <td>https://video-cdn.socialverseapp.com/kinha_727...</td>\n",
       "      <td>https://video-cdn.socialverseapp.com/kinha_727...</td>\n",
       "      <td>False</td>\n",
       "      <td>https://assets.socialverseapp.com/profile/kinh...</td>\n",
       "      <td>[]</td>\n",
       "    </tr>\n",
       "  </tbody>\n",
       "</table>\n",
       "<p>5 rows × 29 columns</p>\n",
       "</div>"
      ],
      "text/plain": [
       "     id                                           category  \\\n",
       "0  1306  {'id': 22, 'name': 'SolTok', 'count': 50, 'des...   \n",
       "1  1276  {'id': 22, 'name': 'SolTok', 'count': 50, 'des...   \n",
       "2  1313  {'id': 22, 'name': 'SolTok', 'count': 50, 'des...   \n",
       "3  1262  {'id': 22, 'name': 'SolTok', 'count': 50, 'des...   \n",
       "4  1288  {'id': 22, 'name': 'SolTok', 'count': 50, 'des...   \n",
       "\n",
       "                                       slug  \\\n",
       "0  aa10264283a6b879d5f92485c3d7a53b42d0ed42   \n",
       "1  1f76d6485a811c69d0b5fa6fefcdf13bd4aab34d   \n",
       "2  8e5cce4c3a7feed93ee6b6c457a0adafaba0c7dd   \n",
       "3  2587facb19d58cc47ac4a1dc57ca93deddcc8cef   \n",
       "4  ff9774e14014f2deb15102197e14e093abe2087c   \n",
       "\n",
       "                                               title identifier  \\\n",
       "0  Culture of Solana Token $COST.   #  2024  Trum...    3WnTZUH   \n",
       "1  Daily realisation #trading #crypto #bitcoin #e...    nZ1z_u-   \n",
       "2             solana.memecoins - 7367640108956175649    iP1RWAn   \n",
       "3  Solana price prediction in 2025! #solana #sol ...    8Hx-9o1   \n",
       "4  Trading memecoins in 2024 ____ $DUKO ON SOLANA...    Mvsv3jt   \n",
       "\n",
       "   comment_count  upvote_count  view_count  exit_count  rating_count  ...  \\\n",
       "0              0             0          29         462             6  ...   \n",
       "1              0             0          53         456             6  ...   \n",
       "2              0             1          53         369             5  ...   \n",
       "3              0             0          34         391             6  ...   \n",
       "4              1             0          32         488             8  ...   \n",
       "\n",
       "   first_name  last_name username upvoted bookmarked  \\\n",
       "0      Sachin      Kinha    kinha   False      False   \n",
       "1      Sachin      Kinha    kinha   False      False   \n",
       "2      Sachin      Kinha    kinha   False      False   \n",
       "3      Sachin      Kinha    kinha   False      False   \n",
       "4      Sachin      Kinha    kinha   False      False   \n",
       "\n",
       "                                       thumbnail_url  \\\n",
       "0  https://video-cdn.socialverseapp.com/kinha_b46...   \n",
       "1  https://video-cdn.socialverseapp.com/kinha_2fd...   \n",
       "2  https://video-cdn.socialverseapp.com/kinha_e8c...   \n",
       "3  https://video-cdn.socialverseapp.com/kinha_421...   \n",
       "4  https://video-cdn.socialverseapp.com/kinha_727...   \n",
       "\n",
       "                                   gif_thumbnail_url  following  \\\n",
       "0  https://video-cdn.socialverseapp.com/kinha_b46...      False   \n",
       "1  https://video-cdn.socialverseapp.com/kinha_2fd...      False   \n",
       "2  https://video-cdn.socialverseapp.com/kinha_e8c...      False   \n",
       "3  https://video-cdn.socialverseapp.com/kinha_421...      False   \n",
       "4  https://video-cdn.socialverseapp.com/kinha_727...      False   \n",
       "\n",
       "                                         picture_url post_summary  \n",
       "0  https://assets.socialverseapp.com/profile/kinh...           []  \n",
       "1  https://assets.socialverseapp.com/profile/kinh...           []  \n",
       "2  https://assets.socialverseapp.com/profile/kinh...           []  \n",
       "3  https://assets.socialverseapp.com/profile/kinh...           []  \n",
       "4  https://assets.socialverseapp.com/profile/kinh...           []  \n",
       "\n",
       "[5 rows x 29 columns]"
      ]
     },
     "execution_count": 5,
     "metadata": {},
     "output_type": "execute_result"
    }
   ],
   "source": [
    "ratings=requests.get(f'{base_url}/posts/rating?page=1&page_size=5&resonance_algorithm=resonance_algorithm_cjsvervb7dbhss8bdrj89s44jfjdbsjd0xnjkbvuire8zcjwerui3njfbvsujc5if',headers=headers).json()\n",
    "df_ratings=pd.DataFrame(ratings['posts'])\n",
    "df_ratings.head()"
   ]
  },
  {
   "cell_type": "markdown",
   "id": "10f1f17b-6848-43a5-8713-0c7a46a9cb10",
   "metadata": {},
   "source": [
    "### 4.Loading the Posts Data"
   ]
  },
  {
   "cell_type": "code",
   "execution_count": 6,
   "id": "06075fd7-5455-4be9-a6f0-e463d9a94baf",
   "metadata": {},
   "outputs": [
    {
     "ename": "KeyError",
     "evalue": "'posts'",
     "output_type": "error",
     "traceback": [
      "\u001b[1;31m---------------------------------------------------------------------------\u001b[0m",
      "\u001b[1;31mKeyError\u001b[0m                                  Traceback (most recent call last)",
      "Cell \u001b[1;32mIn[6], line 2\u001b[0m\n\u001b[0;32m      1\u001b[0m posts\u001b[38;5;241m=\u001b[39mrequests\u001b[38;5;241m.\u001b[39mget(\u001b[38;5;124mf\u001b[39m\u001b[38;5;124m'\u001b[39m\u001b[38;5;132;01m{\u001b[39;00mbase_url\u001b[38;5;132;01m}\u001b[39;00m\u001b[38;5;124m/posts/summary/get?page=1&page_size=1000\u001b[39m\u001b[38;5;124m'\u001b[39m,headers\u001b[38;5;241m=\u001b[39mheaders)\u001b[38;5;241m.\u001b[39mjson()\n\u001b[1;32m----> 2\u001b[0m df_posts\u001b[38;5;241m=\u001b[39mpd\u001b[38;5;241m.\u001b[39mDataFrame(posts[\u001b[38;5;124m'\u001b[39m\u001b[38;5;124mposts\u001b[39m\u001b[38;5;124m'\u001b[39m])\n\u001b[0;32m      3\u001b[0m df_posts\u001b[38;5;241m.\u001b[39mhead()\n",
      "\u001b[1;31mKeyError\u001b[0m: 'posts'"
     ]
    }
   ],
   "source": [
    "posts=requests.get(f'{base_url}/posts/summary/get?page=1&page_size=1000',headers=headers).json()\n",
    "df_posts=pd.DataFrame(posts['posts'])\n",
    "df_posts.head()"
   ]
  },
  {
   "cell_type": "markdown",
   "id": "9439bcdb-aa47-4021-b28f-d9a39b684fb4",
   "metadata": {},
   "source": [
    "## Analysis And Preprocessing"
   ]
  },
  {
   "cell_type": "code",
   "execution_count": null,
   "id": "6ad82420-4652-403c-b01c-fc2a7e85e514",
   "metadata": {},
   "outputs": [],
   "source": [
    "Datasets=[df_views,df_likes,df_posts,df_ratings,df_users]\n",
    "for i in Datasets:\n",
    "    print(i.columns)"
   ]
  },
  {
   "cell_type": "markdown",
   "id": "308deae7-daa1-4ef4-a625-894bf6008128",
   "metadata": {},
   "source": [
    "#### By Looking at the Datasets it seems like they are all representing the video posted by an user hence can be merged because they all contains same information i.e the likes ,comments,shares, username etc, except the Users Data."
   ]
  },
  {
   "cell_type": "code",
   "execution_count": null,
   "id": "21e3b032-c888-4c4e-beef-4f2f2475bf75",
   "metadata": {},
   "outputs": [],
   "source": [
    "merged_data=pd.concat([df_views, df_likes, df_ratings, df_posts], ignore_index=True)"
   ]
  },
  {
   "cell_type": "code",
   "execution_count": null,
   "id": "31856246-4eb5-4433-b616-2b5b1b662860",
   "metadata": {},
   "outputs": [],
   "source": [
    "merged_data.head(5)"
   ]
  },
  {
   "cell_type": "markdown",
   "id": "e2f24556-8a95-4f61-ac9a-ee7e5645abda",
   "metadata": {},
   "source": [
    "### Working on the merged Data"
   ]
  },
  {
   "cell_type": "code",
   "execution_count": null,
   "id": "a2a50e50-567c-4aff-8bdc-ed81051070f6",
   "metadata": {},
   "outputs": [],
   "source": [
    "merged_data.info()"
   ]
  },
  {
   "cell_type": "markdown",
   "id": "535e4e66-e95a-4e8d-94f6-4c45bedccdc8",
   "metadata": {},
   "source": [
    "#### As of Now it can seen that our Data contains total of 2010 entries and 29 columns or features\n",
    "#### 1.No columns seems to have any Null values. \n",
    "#### 2.There are total 9 columns having integer values and 4 columns with Boolean Values and the rest are objects or strings"
   ]
  },
  {
   "cell_type": "code",
   "execution_count": null,
   "id": "b3d9310e-a768-4544-afe5-7861c6a9da4c",
   "metadata": {},
   "outputs": [],
   "source": [
    "##let's start by dropping the columns that would not contibute in building the recommendation algorithm.such as picture_url,gif_thumbnail_url etc.\n",
    "merged_data=merged_data.drop(columns=['picture_url','gif_thumbnail_url','chart_url','identifier','video_link','contract_address'],axis=1)"
   ]
  },
  {
   "cell_type": "code",
   "execution_count": null,
   "id": "777989f1-b917-4e1f-85b1-3fe58510edaa",
   "metadata": {},
   "outputs": [],
   "source": [
    "merged_data.head(5)"
   ]
  },
  {
   "cell_type": "markdown",
   "id": "14c24d3c-7092-400b-bfb9-e243a7260c7e",
   "metadata": {},
   "source": [
    "#### Lets check if any column contains an empty string or not"
   ]
  },
  {
   "cell_type": "code",
   "execution_count": null,
   "id": "e717fa5b-9de4-420b-84bc-bfae57f94f0f",
   "metadata": {},
   "outputs": [],
   "source": [
    "merged_data[merged_data['title']==\"\"]"
   ]
  },
  {
   "cell_type": "markdown",
   "id": "aec54062-c2d0-4ac1-a525-73b78c1ec560",
   "metadata": {},
   "source": [
    "### As we can see there are 409 rows in the data which contains empty string in the title column which is 20% of the whole data"
   ]
  },
  {
   "cell_type": "markdown",
   "id": "5adb1d13-8ca6-4078-a9de-f9ae65529ad5",
   "metadata": {},
   "source": [
    "### As Title is important feature to be considered during any recommendation so instead of removing the rows we will be replacing the empty string values with \"untitled Video\".\n",
    "#### Another observation is that there are two users who posts video without title and they are kinha and afrobeezy."
   ]
  },
  {
   "cell_type": "code",
   "execution_count": null,
   "id": "581cb680-308b-4c1a-8fc3-ca343f65b4c7",
   "metadata": {},
   "outputs": [],
   "source": [
    "def title_helper(object):\n",
    "    if object==\"\":\n",
    "        return \"UntitledVideo\"\n",
    "    else:\n",
    "        return object\n",
    "merged_data['title']=merged_data['title'].apply(title_helper)"
   ]
  },
  {
   "cell_type": "code",
   "execution_count": null,
   "id": "b4928566-915b-40ce-96b2-6810ee190130",
   "metadata": {},
   "outputs": [],
   "source": [
    "merged_data"
   ]
  },
  {
   "cell_type": "code",
   "execution_count": null,
   "id": "96917a7f-389d-40da-9c02-441aa78ccb66",
   "metadata": {},
   "outputs": [],
   "source": [
    "merged_data.info()"
   ]
  },
  {
   "cell_type": "code",
   "execution_count": null,
   "id": "42d0e5dd-e5d3-4baa-8e24-351afdf96e59",
   "metadata": {},
   "outputs": [],
   "source": [
    "merged_data['chain_id'].value_counts()"
   ]
  },
  {
   "cell_type": "markdown",
   "id": "a8979709-4a0f-4425-91ea-d2468ffba081",
   "metadata": {},
   "source": [
    "#### As of the above information it seems that 1594 rows have empty string in the chain_id column which is almost 80% of the data and hence chain_id does not seem to have that much importance in recommendation so we will drop this column."
   ]
  },
  {
   "cell_type": "code",
   "execution_count": null,
   "id": "6072f6f3-43c8-4f30-a267-1e71ee935675",
   "metadata": {},
   "outputs": [],
   "source": [
    "merged_data=merged_data.drop(columns=['chain_id'],axis=1)"
   ]
  },
  {
   "cell_type": "markdown",
   "id": "159017fe-ff58-4d0b-9d95-8dfaa0ddbc88",
   "metadata": {},
   "source": [
    "#### Just as the chain_id column other columns like thumbnail_url,bookmarked,base_token,is_locked seems to have less importance in recommendations and to reduce the complexity of the data we will be dropping these columns."
   ]
  },
  {
   "cell_type": "code",
   "execution_count": null,
   "id": "f5dff187-52ad-4437-9dbe-0c34b58db764",
   "metadata": {},
   "outputs": [],
   "source": [
    "merged_data.drop(columns=['thumbnail_url','bookmarked','upvoted','is_locked','baseToken','exit_count'],axis=1,inplace=True)"
   ]
  },
  {
   "cell_type": "code",
   "execution_count": null,
   "id": "fe47bbb1-4779-49e6-9b67-426e0bf8908e",
   "metadata": {},
   "outputs": [],
   "source": [
    "merged_data.head(5)"
   ]
  },
  {
   "cell_type": "code",
   "execution_count": null,
   "id": "fb8e40b6-e8a8-4c90-8e8d-1fc6541ce235",
   "metadata": {
    "scrolled": true
   },
   "outputs": [],
   "source": [
    "merged_data['post_summary'].value_counts()"
   ]
  },
  {
   "cell_type": "markdown",
   "id": "158dcb2f-44a1-43b1-971e-4d3e543f02f9",
   "metadata": {},
   "source": [
    "#### It seems that the post_summary column contains 50% empty values as empty list so we are replacing those empty lists as no summary"
   ]
  },
  {
   "cell_type": "code",
   "execution_count": null,
   "id": "e700309d-92ad-4aa2-905c-0fe25e239916",
   "metadata": {},
   "outputs": [],
   "source": [
    "merged_data['post_summary'] = merged_data['post_summary'].apply(lambda x: 'no summary' if x == [] else x)"
   ]
  },
  {
   "cell_type": "code",
   "execution_count": null,
   "id": "cf6c3602-ba26-4d96-a9e6-86ff34a802ef",
   "metadata": {},
   "outputs": [],
   "source": [
    "merged_data['post_summary'].value_counts()"
   ]
  },
  {
   "cell_type": "markdown",
   "id": "425ac083-71b0-4cd0-aba2-43cdd086963c",
   "metadata": {},
   "source": [
    "### Instead of having two columns as first and last name we can have a single column called Name"
   ]
  },
  {
   "cell_type": "code",
   "execution_count": null,
   "id": "a8605c89-c156-468c-b07f-9e70939112e6",
   "metadata": {},
   "outputs": [],
   "source": [
    "def combine_name_columns(df):\n",
    "    \n",
    "    first_name_col = [col for col in df.columns if 'first' in col.lower()]\n",
    "    last_name_col = [col for col in df.columns if 'last' in col.lower()]\n",
    "    \n",
    "    if first_name_col and last_name_col:\n",
    "        first_name_col = first_name_col[0]\n",
    "        last_name_col = last_name_col[0]\n",
    "        df['Name'] = df[first_name_col].str.strip() + ' ' + df[last_name_col].str.strip()\n",
    "        df = df.drop(columns=[first_name_col, last_name_col])\n",
    "    \n",
    "    return df"
   ]
  },
  {
   "cell_type": "code",
   "execution_count": null,
   "id": "53917499-19b5-47b5-b5dd-9c4a8a0938f9",
   "metadata": {},
   "outputs": [],
   "source": [
    "merged_data=combine_name_columns(merged_data)"
   ]
  },
  {
   "cell_type": "code",
   "execution_count": null,
   "id": "913c5dec-17e5-4e7d-98b9-6e4f2f1771c4",
   "metadata": {},
   "outputs": [],
   "source": [
    "merged_data.head(5)"
   ]
  },
  {
   "cell_type": "code",
   "execution_count": null,
   "id": "52fd7377-d92c-40d7-a54a-74910303f74b",
   "metadata": {},
   "outputs": [],
   "source": [
    "###Since i dont have any knowledge about the slug column so i wont be able to include this in the system so for this time we are removing slug column\n",
    "merged_data.drop(columns=['slug'],axis=1,inplace=True)"
   ]
  },
  {
   "cell_type": "markdown",
   "id": "636d8831-4893-4cb3-a80f-278f8470c492",
   "metadata": {},
   "source": [
    "#### As of the created_at column this column can be used to create a new column which shows how many days ago the video was posted from today which may help in the trend based recommendation."
   ]
  },
  {
   "cell_type": "code",
   "execution_count": null,
   "id": "51926149-bd83-4bb1-8365-d85cf7201adf",
   "metadata": {},
   "outputs": [],
   "source": [
    "from datetime import datetime\n",
    "\n",
    "def add_posted_days_column(df, timestamp_col='created_at', new_col='posted_n_days_ago'):\n",
    "    df[timestamp_col] = pd.to_datetime(df[timestamp_col], unit='ms')\n",
    "    df[new_col] = (datetime.now() - df[timestamp_col]).dt.days\n",
    "    \n",
    "    return df"
   ]
  },
  {
   "cell_type": "code",
   "execution_count": null,
   "id": "b125d7af-7e0b-4864-9c47-26071064daab",
   "metadata": {},
   "outputs": [],
   "source": [
    "merged_data=add_posted_days_column(merged_data)"
   ]
  },
  {
   "cell_type": "code",
   "execution_count": null,
   "id": "dd845da8-ccfa-4869-92f4-0dff8a06b12f",
   "metadata": {},
   "outputs": [],
   "source": [
    "merged_data.head(5)"
   ]
  },
  {
   "cell_type": "code",
   "execution_count": null,
   "id": "f5ed1d3d-18ff-4256-9e54-a94ed50436bb",
   "metadata": {},
   "outputs": [],
   "source": [
    "## Now we can drop the created_at column\n",
    "merged_data.drop(columns=['created_at'],axis=1,inplace=True)"
   ]
  },
  {
   "cell_type": "markdown",
   "id": "38efedad-3e16-4ed6-916d-b73ba6f00466",
   "metadata": {},
   "source": [
    "### As for the rating count and average rating column we can create a new column named popularity_score which will reduce the dimension of the data but will also help us in identifying the more popular videos based on the ratings\n",
    "### we can calculate the popularity score using the formula below.\n",
    "## popularity score=average rating×log(rating count+1)"
   ]
  },
  {
   "cell_type": "code",
   "execution_count": null,
   "id": "0b1058a9-4135-4e5c-a205-b85e0279eaea",
   "metadata": {},
   "outputs": [],
   "source": [
    "def add_rating_insights(df, avg_rating_col='average_rating', rating_count_col='rating_count', new_col='popularity_score'):\n",
    "    df[new_col] = df[avg_rating_col] * np.log(df[rating_count_col] + 1)\n",
    "    return df"
   ]
  },
  {
   "cell_type": "code",
   "execution_count": null,
   "id": "b88292c0-c158-4ff1-a968-21884e9721b5",
   "metadata": {},
   "outputs": [],
   "source": [
    "merged_data=add_rating_insights(merged_data)"
   ]
  },
  {
   "cell_type": "code",
   "execution_count": null,
   "id": "d05cbb27-da66-4081-bf7c-ece878d4c766",
   "metadata": {},
   "outputs": [],
   "source": [
    "merged_data.drop(columns=['average_rating','rating_count'],axis=1,inplace=True)"
   ]
  },
  {
   "cell_type": "code",
   "execution_count": null,
   "id": "6774911e-49b7-4474-b321-4cf057b50e77",
   "metadata": {},
   "outputs": [],
   "source": [
    "merged_data"
   ]
  },
  {
   "cell_type": "markdown",
   "id": "7162115b-28d8-45dd-b68b-bfc8e6cc5847",
   "metadata": {},
   "source": [
    "### Handling the category column"
   ]
  },
  {
   "cell_type": "code",
   "execution_count": null,
   "id": "3c1a8021-44cc-4719-b1fd-1bb90f9ffb35",
   "metadata": {},
   "outputs": [],
   "source": [
    "def convert_category_to_list(row):\n",
    "    category_list = [row['id'], row['name'], row['count'], row['description']]\n",
    "    return category_list"
   ]
  },
  {
   "cell_type": "code",
   "execution_count": null,
   "id": "7f40b8db-d66c-4537-90d7-d1c8df3f8fff",
   "metadata": {},
   "outputs": [],
   "source": [
    "merged_data['category']=merged_data['category'].apply(convert_category_to_list)"
   ]
  },
  {
   "cell_type": "code",
   "execution_count": null,
   "id": "2433c4ad-a796-4f62-80e4-121636cd2897",
   "metadata": {},
   "outputs": [],
   "source": [
    "merged_data.head(5)"
   ]
  },
  {
   "cell_type": "markdown",
   "id": "54bf801f-e9ad-4830-b7ca-157db0d52a44",
   "metadata": {},
   "source": [
    "### Exploring the post_summary column"
   ]
  },
  {
   "cell_type": "code",
   "execution_count": null,
   "id": "6ccd6dd5-ed18-465b-bb5b-48494efb6c55",
   "metadata": {},
   "outputs": [],
   "source": [
    "merged_data['post_summary'][2005]"
   ]
  },
  {
   "cell_type": "markdown",
   "id": "6b27a8b0-9ea1-4785-afef-601ab510cd36",
   "metadata": {},
   "source": [
    "#### As we can see this column is very rich in terms of information so we can take out the useful information from this column\n",
    "#### Such as the genre,the description and the targeted audience.\n",
    "#### These features can help in personlized recommendation based on the interest of the user"
   ]
  },
  {
   "cell_type": "markdown",
   "id": "e4ec7b2f-d7e9-467e-8f0e-a07d7886b359",
   "metadata": {},
   "source": [
    "### Extracting the genre and the targeted audience from the post summary"
   ]
  },
  {
   "cell_type": "code",
   "execution_count": null,
   "id": "5dc0cb87-e344-48d0-8643-8786fee9ede5",
   "metadata": {},
   "outputs": [],
   "source": [
    "def extract_genre_and_audience(df, post_summary_column='post_summary'):\n",
    "    df['genre'] = None\n",
    "    df['targeted_audience'] = None\n",
    "    \n",
    "    for idx, row in df.iterrows():\n",
    "        post_summary = row.get(post_summary_column)\n",
    "        \n",
    "        if isinstance(post_summary, dict):\n",
    "            genre = post_summary.get('genre', None)\n",
    "            df.at[idx, 'genre'] = genre\n",
    "            \n",
    "            targeted_audiance = post_summary.get('targeted_audiance', {})\n",
    "            \n",
    "            if isinstance(targeted_audiance, dict) and not isinstance(list(targeted_audiance.values())[0], list):\n",
    "                targeted_audience = [key for key, value in targeted_audiance.items() if value]\n",
    "                df.at[idx, 'targeted_audience'] = ', '.join(targeted_audience)\n",
    "                \n",
    "            elif isinstance(targeted_audiance, dict) and 'groups' in targeted_audiance:\n",
    "                groups = targeted_audiance.get('groups', [])\n",
    "                df.at[idx, 'targeted_audience'] = ', '.join(groups)\n",
    "                \n",
    "            elif isinstance(targeted_audiance, dict) and 'specific_groups' in targeted_audiance:\n",
    "                specific_groups = targeted_audiance.get('specific_groups', [])\n",
    "                df.at[idx, 'targeted_audience'] = ', '.join(specific_groups)\n",
    "                \n",
    "            elif isinstance(targeted_audiance, dict) and 'primary_audience' in targeted_audiance:\n",
    "                primary_audience = targeted_audiance.get('primary_audience', [])\n",
    "                df.at[idx, 'targeted_audience'] = ', '.join(primary_audience)\n",
    "    \n",
    "    return df\n",
    "merged_data = extract_genre_and_audience(merged_data)"
   ]
  },
  {
   "cell_type": "code",
   "execution_count": null,
   "id": "2d79716e-c0ac-4402-8827-102f58aac21f",
   "metadata": {},
   "outputs": [],
   "source": [
    "merged_data.head(5)"
   ]
  },
  {
   "cell_type": "markdown",
   "id": "70c79432-dc6a-488a-a303-34a41b456e04",
   "metadata": {},
   "source": [
    "## Extracting the description from the post-summmary"
   ]
  },
  {
   "cell_type": "markdown",
   "id": "4ede8d67-87f3-46cb-b0f8-0005fcc198ff",
   "metadata": {},
   "source": [
    "## As we explored earlier that the post summary column contains almost 50% None values which have been marked as no summary so this will also affect the features created from this column"
   ]
  },
  {
   "cell_type": "code",
   "execution_count": null,
   "id": "f2200158-d852-4e4d-86e2-61712f20255e",
   "metadata": {},
   "outputs": [],
   "source": [
    "import re\n",
    "\n",
    "def extract_overall_theme(df, post_summary_column='post_summary'):\n",
    "    # Initialize the new column\n",
    "    df['post_description'] = None\n",
    "    \n",
    "    # Regular expression to match the \"Overall Theme and Message\" section\n",
    "    theme_pattern = re.compile(r'\\*\\*Overall Theme and Message\\*\\*:(.*?)(?:\\n\\n|\\Z)', re.DOTALL)\n",
    "    \n",
    "    for idx, row in df.iterrows():\n",
    "        post_summary = row.get(post_summary_column)\n",
    "        if isinstance(post_summary, dict):\n",
    "            description = post_summary.get('description', '')\n",
    "            # Search for the theme section\n",
    "            match = theme_pattern.search(description)\n",
    "            if match:\n",
    "                # Clean up whitespace and newlines\n",
    "                overall_theme_message = match.group(1).strip()\n",
    "                df.at[idx, 'post_description'] = overall_theme_message\n",
    "                \n",
    "    return df\n",
    "\n",
    "\n",
    "merged_data = extract_overall_theme(merged_data)"
   ]
  },
  {
   "cell_type": "markdown",
   "id": "6dfd2c47-885e-4fea-a40c-e6b32ee11d1a",
   "metadata": {},
   "source": [
    "#### The description feature contains the actual summary in its overall theme and message section but some videos does not have that particular section so we are using two different fucntions for the two cases  "
   ]
  },
  {
   "cell_type": "code",
   "execution_count": null,
   "id": "1bc62b21-0211-4bf8-a367-e3b1cf39775f",
   "metadata": {},
   "outputs": [],
   "source": [
    "def extract_overall_theme(post_summary):\n",
    "    if isinstance(post_summary, dict):\n",
    "        description = post_summary.get('description', '')\n",
    "        if 'overall theme' in description.lower():\n",
    "            start_index = description.lower().find('overall theme')\n",
    "            end_index = description.lower().find('conclusion')  \n",
    "            return description[start_index:end_index].strip()\n",
    "        else:\n",
    "            return \"Theme not explicitly found.\"\n",
    "    return \"Description not available.\""
   ]
  },
  {
   "cell_type": "code",
   "execution_count": null,
   "id": "e6db082a-5ead-49c6-9e2b-c42dbcfcc7da",
   "metadata": {},
   "outputs": [],
   "source": [
    "merged_data['overall_theme_message'] = merged_data['post_summary'].apply(extract_overall_theme)"
   ]
  },
  {
   "cell_type": "markdown",
   "id": "92b130c3-218a-4b84-82b4-d6db789f2998",
   "metadata": {},
   "source": [
    "#### Merging the two description column we got from the two different functions"
   ]
  },
  {
   "cell_type": "code",
   "execution_count": null,
   "id": "e0e90202-0a90-4d41-83fa-76efd6345ef2",
   "metadata": {},
   "outputs": [],
   "source": [
    "merged_data['post_description'] = merged_data.apply(\n",
    "    lambda row: row['overall_theme_message'] if pd.isna(row['post_description']) else row['post_description'], axis=1\n",
    ")\n"
   ]
  },
  {
   "cell_type": "code",
   "execution_count": null,
   "id": "542459a8-f1ca-4103-8af0-2fef36c0c831",
   "metadata": {},
   "outputs": [],
   "source": [
    "merged_data.head(5)"
   ]
  },
  {
   "cell_type": "markdown",
   "id": "e61ff425-42ca-4bc1-ab75-d0167795504b",
   "metadata": {},
   "source": [
    "### Basic Preprocessing"
   ]
  },
  {
   "cell_type": "code",
   "execution_count": null,
   "id": "f83431a0-35bb-48a5-b5b1-24b82630b939",
   "metadata": {},
   "outputs": [],
   "source": [
    "merged_data['targeted_audience'] = merged_data['targeted_audience'].fillna('General Audience')\n",
    "merged_data['genre'] = merged_data['genre'].fillna('Unspecified')\n",
    "merged_data.drop(columns=['post_summary'],axis=1,inplace=True)"
   ]
  },
  {
   "cell_type": "code",
   "execution_count": null,
   "id": "a0836b03-1fb2-4a1b-8e36-07c5273e8e33",
   "metadata": {},
   "outputs": [],
   "source": [
    "merged_data.head(5)"
   ]
  },
  {
   "cell_type": "markdown",
   "id": "4de646b9-3713-4466-af30-77e834f296bd",
   "metadata": {},
   "source": [
    "### Since we have the ID for the post we can drop the id of that particular post in a specific category"
   ]
  },
  {
   "cell_type": "code",
   "execution_count": null,
   "id": "d707a5c3-01ec-454a-9138-69cd0731dd86",
   "metadata": {},
   "outputs": [],
   "source": [
    "merged_data['category'][0]"
   ]
  },
  {
   "cell_type": "code",
   "execution_count": null,
   "id": "aa770b3f-5e15-463a-a9d1-e828ca0624fc",
   "metadata": {},
   "outputs": [],
   "source": [
    "merged_data['category'] = merged_data['category'].apply(lambda x: x[1:] if isinstance(x, list) else x)"
   ]
  },
  {
   "cell_type": "code",
   "execution_count": null,
   "id": "2408b8b2-ba66-4540-ad49-d7f38bb52afd",
   "metadata": {},
   "outputs": [],
   "source": [
    "merged_data"
   ]
  },
  {
   "cell_type": "markdown",
   "id": "0967b791-8111-4ee8-b2b7-1a9f462ba8d6",
   "metadata": {},
   "source": [
    "### Now i think the data is ready for the recommendation system"
   ]
  },
  {
   "cell_type": "code",
   "execution_count": null,
   "id": "72314b66-c13a-4c9b-8cfc-2f8ee6ef0db2",
   "metadata": {},
   "outputs": [],
   "source": [
    "##Let's save this data\n",
    "merged_data.to_csv(\"data_videos\")"
   ]
  }
 ],
 "metadata": {
  "kernelspec": {
   "display_name": "Python 3 (ipykernel)",
   "language": "python",
   "name": "python3"
  },
  "language_info": {
   "codemirror_mode": {
    "name": "ipython",
    "version": 3
   },
   "file_extension": ".py",
   "mimetype": "text/x-python",
   "name": "python",
   "nbconvert_exporter": "python",
   "pygments_lexer": "ipython3",
   "version": "3.12.4"
  }
 },
 "nbformat": 4,
 "nbformat_minor": 5
}
